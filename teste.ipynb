{
 "cells": [
  {
   "cell_type": "code",
   "execution_count": null,
   "metadata": {},
   "outputs": [],
   "source": [
    "import base64\n",
    "import json                    \n",
    "import requests\n",
    "from datetime import datetime\n",
    "\n",
    "url = 'http://localhost:6000/foto_display'\n",
    "\n",
    "# leitura do arquivo \n",
    "image_file = 'data/baia02.png'\n",
    "\n",
    "with open(image_file, \"rb\") as f:\n",
    "    im_bytes = f.read()        \n",
    "#converter base64\n",
    "im_b64 = base64.b64encode(im_bytes).decode(\"utf8\")\n",
    "\n",
    "#id e nome\n",
    "id = \"01\"\n",
    "name = datetime.now().strftime('%Y-%m-%d %H:%M:%S')\n",
    "#headers e dados em json\n",
    "\n",
    "headers = {'Content-type': 'application/json', 'Accept': 'text/plain'}\n",
    "data = json.dumps({\"image\": im_b64, \"id\":id, \"name\":name})\n",
    "response = requests.post(url, data=data, headers=headers)\n",
    "\n",
    "try:\n",
    "    data = response.json()     \n",
    "    print(data)                \n",
    "except requests.exceptions.RequestException:\n",
    "    print(response.text)\n",
    "\n",
    "\n",
    "\n"
   ]
  },
  {
   "cell_type": "code",
   "execution_count": null,
   "metadata": {},
   "outputs": [],
   "source": [
    "print(data)"
   ]
  }
 ],
 "metadata": {
  "kernelspec": {
   "display_name": "Python 3.9.6 64-bit",
   "language": "python",
   "name": "python3"
  },
  "language_info": {
   "codemirror_mode": {
    "name": "ipython",
    "version": 3
   },
   "file_extension": ".py",
   "mimetype": "text/x-python",
   "name": "python",
   "nbconvert_exporter": "python",
   "pygments_lexer": "ipython3",
   "version": "3.12.4"
  },
  "orig_nbformat": 4,
  "vscode": {
   "interpreter": {
    "hash": "429ebeaea0de095f20c66896614927fd58f1a07a4497f0b232508cfbaa44b8f3"
   }
  }
 },
 "nbformat": 4,
 "nbformat_minor": 2
}
